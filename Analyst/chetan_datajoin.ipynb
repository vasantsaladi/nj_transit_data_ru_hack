{
 "cells": [
  {
   "cell_type": "code",
   "execution_count": 6,
   "metadata": {},
   "outputs": [
    {
     "name": "stdout",
     "output_type": "stream",
     "text": [
      "Found 4 files\n",
      "\n",
      "First few rows:\n",
      "         date train_id  stop_sequence                 from  from_id  \\\n",
      "0  2020-05-01     5543            1.0  Newark Penn Station    107.0   \n",
      "1  2020-05-01     5543            2.0  Newark Penn Station    107.0   \n",
      "2  2020-05-01     5543            3.0                Union  38105.0   \n",
      "3  2020-05-01     5543            4.0         Roselle Park     31.0   \n",
      "4  2020-05-01     5543            5.0             Cranford     32.0   \n",
      "\n",
      "                    to    to_id       scheduled_time          actual_time  \\\n",
      "0  Newark Penn Station    107.0  2020-05-01 23:38:00  2020-05-01 23:40:09   \n",
      "1                Union  38105.0  2020-05-01 23:47:00  2020-05-01 23:47:01   \n",
      "2         Roselle Park     31.0  2020-05-01 23:50:00  2020-05-01 23:51:04   \n",
      "3             Cranford     32.0  2020-05-01 23:55:00  2020-05-01 23:55:31   \n",
      "4            Westfield    155.0  2020-05-01 23:59:00  2020-05-01 23:59:01   \n",
      "\n",
      "   delay_minutes    status            line        type  \n",
      "0       2.150000  departed  Raritan Valley  NJ Transit  \n",
      "1       0.016667  departed  Raritan Valley  NJ Transit  \n",
      "2       1.066667  departed  Raritan Valley  NJ Transit  \n",
      "3       0.516667  departed  Raritan Valley  NJ Transit  \n",
      "4       0.016667  departed  Raritan Valley  NJ Transit  \n",
      "\n",
      "DataFrame Info:\n",
      "<class 'pandas.core.frame.DataFrame'>\n",
      "RangeIndex: 797945 entries, 0 to 797944\n",
      "Data columns (total 13 columns):\n",
      " #   Column          Non-Null Count   Dtype  \n",
      "---  ------          --------------   -----  \n",
      " 0   date            797945 non-null  object \n",
      " 1   train_id        797945 non-null  object \n",
      " 2   stop_sequence   723088 non-null  float64\n",
      " 3   from            797945 non-null  object \n",
      " 4   from_id         797942 non-null  float64\n",
      " 5   to              797945 non-null  object \n",
      " 6   to_id           797942 non-null  float64\n",
      " 7   scheduled_time  723088 non-null  object \n",
      " 8   actual_time     797945 non-null  object \n",
      " 9   delay_minutes   723088 non-null  float64\n",
      " 10  status          797945 non-null  object \n",
      " 11  line            797945 non-null  object \n",
      " 12  type            797945 non-null  object \n",
      "dtypes: float64(4), object(9)\n",
      "memory usage: 79.1+ MB\n",
      "None\n"
     ]
    }
   ],
   "source": [
    "import pandas as pd\n",
    "import glob\n",
    "\n",
    "# Create a list of file patterns\n",
    "file_patterns = [\n",
    "    '/Users/chetan/Downloads/archive-2/2020_*.csv'\n",
    "]\n",
    "\n",
    "# Get all matching files from both patterns\n",
    "all_files = []\n",
    "for pattern in file_patterns:\n",
    "    all_files.extend(glob.glob(pattern))\n",
    "\n",
    "# Check if files were found\n",
    "if not all_files:\n",
    "    print(\"No files found matching the patterns!\")\n",
    "else:\n",
    "    print(f\"Found {len(all_files)} files\")\n",
    "\n",
    "    # Read and concatenate all CSV files\n",
    "    df = pd.concat((pd.read_csv(f) for f in all_files), ignore_index=True)\n",
    "\n",
    "    # Display the first few rows and basic info\n",
    "    print(\"\\nFirst few rows:\")\n",
    "    print(df.head())\n",
    "    \n",
    "    print(\"\\nDataFrame Info:\")\n",
    "    print(df.info())\n",
    "    \n",
    "   "
   ]
  },
  {
   "cell_type": "code",
   "execution_count": 7,
   "metadata": {},
   "outputs": [
    {
     "name": "stdout",
     "output_type": "stream",
     "text": [
      "\n",
      "Data saved to data.csv\n"
     ]
    }
   ],
   "source": [
    " # Save the concatenated DataFrame to a CSV file\n",
    "df.to_csv('data.csv', index=False)\n",
    "print(\"\\nData saved to data.csv\")"
   ]
  },
  {
   "cell_type": "code",
   "execution_count": null,
   "metadata": {},
   "outputs": [],
   "source": []
  }
 ],
 "metadata": {
  "kernelspec": {
   "display_name": "nj",
   "language": "python",
   "name": "python3"
  },
  "language_info": {
   "codemirror_mode": {
    "name": "ipython",
    "version": 3
   },
   "file_extension": ".py",
   "mimetype": "text/x-python",
   "name": "python",
   "nbconvert_exporter": "python",
   "pygments_lexer": "ipython3",
   "version": "3.11.10"
  }
 },
 "nbformat": 4,
 "nbformat_minor": 2
}
