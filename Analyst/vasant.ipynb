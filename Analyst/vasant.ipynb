{
 "cells": [
  {
   "cell_type": "code",
   "execution_count": 2,
   "metadata": {},
   "outputs": [
    {
     "ename": "ModuleNotFoundError",
     "evalue": "No module named 'seaborn'",
     "output_type": "error",
     "traceback": [
      "\u001b[0;31m---------------------------------------------------------------------------\u001b[0m",
      "\u001b[0;31mModuleNotFoundError\u001b[0m                       Traceback (most recent call last)",
      "Cell \u001b[0;32mIn[2], line 9\u001b[0m\n\u001b[1;32m      7\u001b[0m \u001b[38;5;28;01mfrom\u001b[39;00m \u001b[38;5;21;01mdatetime\u001b[39;00m \u001b[38;5;28;01mimport\u001b[39;00m datetime\n\u001b[1;32m      8\u001b[0m \u001b[38;5;28;01mimport\u001b[39;00m \u001b[38;5;21;01mmatplotlib\u001b[39;00m\u001b[38;5;21;01m.\u001b[39;00m\u001b[38;5;21;01mpyplot\u001b[39;00m \u001b[38;5;28;01mas\u001b[39;00m \u001b[38;5;21;01mplt\u001b[39;00m\n\u001b[0;32m----> 9\u001b[0m \u001b[38;5;28;01mimport\u001b[39;00m \u001b[38;5;21;01mseaborn\u001b[39;00m \u001b[38;5;28;01mas\u001b[39;00m \u001b[38;5;21;01msns\u001b[39;00m\n",
      "\u001b[0;31mModuleNotFoundError\u001b[0m: No module named 'seaborn'"
     ]
    }
   ],
   "source": [
    "# Cell 1: Import Libraries\n",
    "\"\"\"\n",
    "Import all necessary libraries for data processing and analysis\n",
    "\"\"\"\n",
    "import pandas as pd\n",
    "import numpy as np\n",
    "from datetime import datetime\n",
    "import matplotlib.pyplot as plt\n",
    "import seaborn as sns"
   ]
  },
  {
   "cell_type": "code",
   "execution_count": null,
   "metadata": {},
   "outputs": [],
   "source": [
    "# Cell 2: Define Helper Functions\n",
    "\"\"\"\n",
    "Helper functions for data processing and standardization\n",
    "\"\"\"\n",
    "\n",
    "def get_month_name(month_num):\n",
    "    \"\"\"\n",
    "    Convert month number to month name\n",
    "    Args:\n",
    "        month_num (int): Month number (1-12)\n",
    "    Returns:\n",
    "        str: Month name (e.g., \"January\")\n",
    "    \"\"\"\n",
    "    return datetime(2000, int(month_num), 1).strftime('%B')\n",
    "\n",
    "def create_date_column(df, year_col='YEAR', month_col='MONTH'):\n",
    "    \"\"\"\n",
    "    Create standardized date column\n",
    "    \"\"\"\n",
    "    return pd.to_datetime(df[[year_col, month_col]].assign(DAY=1))"
   ]
  },
  {
   "cell_type": "code",
   "execution_count": null,
   "metadata": {},
   "outputs": [],
   "source": [
    "# Cell 4: Data Standardization\n",
    "\"\"\"\n",
    "Standardize date formats across all datasets\n",
    "\"\"\"\n",
    "\n",
    "# Process Bus MDBF data\n",
    "bus_mdbf['date'] = create_date_column(bus_mdbf)\n",
    "\n",
    "# Process Light Rail MDBF data\n",
    "lightrail_mdbf['MONTH'] = lightrail_mdbf['MONTH'].str.strip()\n",
    "lightrail_mdbf[['YEAR', 'MONTH']] = lightrail_mdbf['MONTH'].str.extract(r'(\\d{4})\\s+(\\w+)')\n",
    "\n",
    "# Create month mapping\n",
    "month_map = {\n",
    "    'January': 1, 'February': 2, 'March': 3, 'April': 4,\n",
    "    'May': 5, 'June': 6, 'July': 7, 'August': 8,\n",
    "    'September': 9, 'October': 10, 'November': 11, 'December': 12\n",
    "}\n",
    "\n",
    "# Convert months to numeric\n",
    "lightrail_mdbf['MONTH'] = lightrail_mdbf['MONTH'].map(month_map)\n",
    "lightrail_mdbf['date'] = create_date_column(lightrail_mdbf)\n",
    "\n",
    "# Process Rail MDBF data\n",
    "rail_mdbf['MONTH'] = rail_mdbf['MONTH'].str.strip()\n",
    "rail_mdbf[['YEAR', 'MONTH']] = rail_mdbf['MONTH'].str.extract(r'(\\d{4})\\s+(\\w+)')\n",
    "rail_mdbf['MONTH'] = rail_mdbf['MONTH'].map(month_map)\n",
    "rail_mdbf['date'] = create_date_column(rail_mdbf)"
   ]
  },
  {
   "cell_type": "code",
   "execution_count": null,
   "metadata": {},
   "outputs": [],
   "source": [
    "# Cell 5: Data Validation and Initial Analysis\n",
    "\"\"\"\n",
    "Validate the standardized data and perform initial analysis\n",
    "\"\"\"\n",
    "\n",
    "def print_dataset_info(df, name):\n",
    "    print(f\"\\n{name} Dataset Information:\")\n",
    "    print(f\"Date Range: {df['date'].min()} to {df['date'].max()}\")\n",
    "    print(f\"Total Records: {len(df)}\")\n",
    "    print(f\"Missing Values:\\n{df.isnull().sum()}\")\n",
    "    print(\"\\nSample Data:\")\n",
    "    print(df.head())\n",
    "\n",
    "# Check each dataset\n",
    "print_dataset_info(bus_mdbf, \"Bus MDBF\")\n",
    "print_dataset_info(lightrail_mdbf, \"Light Rail MDBF\")\n",
    "print_dataset_info(rail_mdbf, \"Rail MDBF\")"
   ]
  },
  {
   "cell_type": "code",
   "execution_count": null,
   "metadata": {},
   "outputs": [],
   "source": [
    "# Cell 6: Save Standardized Data\n",
    "\"\"\"\n",
    "Save the standardized datasets\n",
    "\"\"\"\n",
    "\n",
    "try:\n",
    "    # Save standardized versions\n",
    "    bus_mdbf.to_csv('data/MDBF/BUS_MDBF_DATA_standardized.csv', index=False)\n",
    "    lightrail_mdbf.to_csv('data/MDBF/LIGHTRAIL_MDBF_DATA_standardized.csv', index=False)\n",
    "    rail_mdbf.to_csv('data/MDBF/RAIL_MDBF_DATA_standardized.csv', index=False)\n",
    "    print(\"All standardized files saved successfully!\")\n",
    "except Exception as e:\n",
    "    print(f\"Error saving files: {e}\")"
   ]
  },
  {
   "cell_type": "code",
   "execution_count": null,
   "metadata": {},
   "outputs": [],
   "source": [
    "# Cell 7: Basic Visualization\n",
    "\"\"\"\n",
    "Create initial visualizations to explore the data\n",
    "\"\"\"\n",
    "\n",
    "plt.figure(figsize=(15, 8))\n",
    "\n",
    "# Plot MDBF trends for each transit type\n",
    "plt.plot(bus_mdbf['date'], bus_mdbf['MDBF'], label='Bus')\n",
    "plt.plot(rail_mdbf['date'], rail_mdbf['MDBF'], label='Rail')\n",
    "\n",
    "# For Light Rail, we'll take the mean MDBF per date across all lines\n",
    "lightrail_avg = lightrail_mdbf.groupby('date')['MDBF'].mean()\n",
    "plt.plot(lightrail_avg.index, lightrail_avg.values, label='Light Rail (Avg)')\n",
    "\n",
    "plt.title('MDBF Trends by Transit Type')\n",
    "plt.xlabel('Date')\n",
    "plt.ylabel('Mean Distance Between Failure')\n",
    "plt.legend()\n",
    "plt.xticks(rotation=45)\n",
    "plt.grid(True)\n",
    "plt.tight_layout()\n",
    "plt.show()"
   ]
  },
  {
   "cell_type": "code",
   "execution_count": null,
   "metadata": {},
   "outputs": [],
   "source": [
    "# Cell 8: Statistical Summary\n",
    "\"\"\"\n",
    "Generate statistical summaries for each transit type\n",
    "\"\"\"\n",
    "\n",
    "def generate_statistics(df, name):\n",
    "    stats = {\n",
    "        'Mean MDBF': df['MDBF'].mean(),\n",
    "        'Median MDBF': df['MDBF'].median(),\n",
    "        'Std Dev MDBF': df['MDBF'].std(),\n",
    "        'Min MDBF': df['MDBF'].min(),\n",
    "        'Max MDBF': df['MDBF'].max()\n",
    "    }\n",
    "    \n",
    "    print(f\"\\n{name} Statistics:\")\n",
    "    for stat, value in stats.items():\n",
    "        print(f\"{stat}: {value:,.2f}\")\n",
    "\n",
    "# Generate statistics for each transit type\n",
    "generate_statistics(bus_mdbf, \"Bus\")\n",
    "generate_statistics(rail_mdbf, \"Rail\")\n",
    "generate_statistics(lightrail_mdbf, \"Light Rail\")"
   ]
  }
 ],
 "metadata": {
  "kernelspec": {
   "display_name": "nj",
   "language": "python",
   "name": "python3"
  },
  "language_info": {
   "codemirror_mode": {
    "name": "ipython",
    "version": 3
   },
   "file_extension": ".py",
   "mimetype": "text/x-python",
   "name": "python",
   "nbconvert_exporter": "python",
   "pygments_lexer": "ipython3",
   "version": "3.11.10"
  }
 },
 "nbformat": 4,
 "nbformat_minor": 2
}
