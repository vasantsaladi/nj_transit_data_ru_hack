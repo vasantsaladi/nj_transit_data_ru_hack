{
 "cells": [
  {
   "cell_type": "code",
   "execution_count": 145,
   "metadata": {},
   "outputs": [],
   "source": [
    "# model.py\n",
    "import pandas as pd\n",
    "import numpy as np\n",
    "from sklearn.preprocessing import StandardScaler\n",
    "import xgboost as xgb\n",
    "from datetime import datetime"
   ]
  },
  {
   "cell_type": "code",
   "execution_count": 147,
   "metadata": {},
   "outputs": [],
   "source": [
    "class CancellationPredictor:\n",
    "    def __init__(self):\n",
    "        self.model = None\n",
    "        self.scaler = StandardScaler()\n",
    "        self.feature_columns = None\n",
    "        \n",
    "    def prepare_data(self, df):\n",
    "        # Create datetime features\n",
    "        df['DATE'] = pd.to_datetime(df['YEAR'].astype(str) + '-' + df['MONTH'], format='%Y-%B')\n",
    "        df['YEAR_NUM'] = df['DATE'].dt.year\n",
    "        df['MONTH_NUM'] = df['DATE'].dt.month\n",
    "        \n",
    "        # Create additional features\n",
    "        df['SEASON'] = df['MONTH_NUM'].map(lambda x: 1 if x in [12,1,2] else \n",
    "                                                   2 if x in [3,4,5] else \n",
    "                                                   3 if x in [6,7,8] else 4)\n",
    "        df['FAILURE_RATE'] = df['CANCEL_COUNT'] / df['TRIPS']\n",
    "        df['LATE_RATE'] = df['LATES'] / df['TRIPS']\n",
    "        \n",
    "            # Create lag features\n",
    "        for lag in [1, 3, 6]:\n",
    "            df[f'CANCEL_COUNT_LAG_{lag}'] = df['CANCEL_COUNT'].shift(lag)\n",
    "            df[f'FAILURE_RATE_LAG_{lag}'] = df['FAILURE_RATE'].shift(lag)\n",
    "        \n",
    "        # Create rolling means\n",
    "        for window in [3, 6]:\n",
    "            df[f'CANCEL_COUNT_ROLL_{window}'] = df['CANCEL_COUNT'].rolling(window=window).mean()\n",
    "        \n",
    "        return df.dropna()\n"
   ]
  },
  {
   "cell_type": "code",
   "execution_count": 148,
   "metadata": {},
   "outputs": [],
   "source": [
    "def train(self, data_path):\n",
    "        # Read data\n",
    "        df = pd.read_csv(data_path)\n",
    "        df = self.prepare_data(df)\n",
    "        \n",
    "        # Define features\n",
    "        self.feature_columns = [\n",
    "            'YEAR_NUM', 'MONTH_NUM', 'SEASON',\n",
    "            'TRIPS', 'LATES', 'ON_TIME_PERCENTAGE', 'MEAN_DISTANCE_BEFORE_FAILURE',\n",
    "            'FAILURE_RATE', 'LATE_RATE'\n",
    "        ] + [col for col in df.columns if 'LAG' in col or 'ROLL' in col]\n",
    "        \n",
    "        X = df[self.feature_columns]\n",
    "        y = df['CANCEL_COUNT']\n",
    "        \n",
    "        # Scale features\n",
    "        X_scaled = self.scaler.fit_transform(X)\n",
    "        \n",
    "        # Train model\n",
    "        self.model = xgb.XGBRegressor(\n",
    "            n_estimators=200,\n",
    "            learning_rate=0.1,\n",
    "            max_depth=6,\n",
    "            random_state=42\n",
    "        )\n",
    "        self.model.fit(X_scaled, y)\n",
    "        \n",
    "        # Store last data for predictions\n",
    "        self.last_data = df.iloc[-1:].copy()"
   ]
  },
  {
   "cell_type": "code",
   "execution_count": 149,
   "metadata": {},
   "outputs": [],
   "source": [
    "def predict(self, year, month):\n",
    "        if self.model is None:\n",
    "            raise Exception(\"Model not trained. Call train() first.\")\n",
    "        \n",
    "        # Create prediction data\n",
    "        pred_data = pd.DataFrame({\n",
    "            'YEAR_NUM': [year],\n",
    "            'MONTH_NUM': [month],\n",
    "            'SEASON': [1 if month in [12,1,2] else \n",
    "                      2 if month in [3,4,5] else \n",
    "                      3 if month in [6,7,8] else 4],\n",
    "        })\n",
    "        \n",
    "        # Fill other features with last known values\n",
    "        for col in self.feature_columns:\n",
    "            if col not in pred_data.columns:\n",
    "                pred_data[col] = self.last_data[col].values[0]\n",
    "        \n",
    "        # Scale and predict\n",
    "        pred_data_scaled = self.scaler.transform(pred_data[self.feature_columns])\n",
    "        prediction = self.model.predict(pred_data_scaled)[0]\n",
    "        \n",
    "        return max(0, round(prediction))"
   ]
  }
 ],
 "metadata": {
  "kernelspec": {
   "display_name": "nj",
   "language": "python",
   "name": "python3"
  },
  "language_info": {
   "codemirror_mode": {
    "name": "ipython",
    "version": 3
   },
   "file_extension": ".py",
   "mimetype": "text/x-python",
   "name": "python",
   "nbconvert_exporter": "python",
   "pygments_lexer": "ipython3",
   "version": "3.11.10"
  }
 },
 "nbformat": 4,
 "nbformat_minor": 2
}
